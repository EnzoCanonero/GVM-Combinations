{
 "cells": [
  {
   "cell_type": "code",
   "execution_count": 1,
   "id": "057b2cfa",
   "metadata": {},
   "outputs": [],
   "source": [
    "from gvm_toolkit import GVMCombination\n"
   ]
  },
  {
   "cell_type": "code",
   "execution_count": 2,
   "id": "701cb532",
   "metadata": {},
   "outputs": [
    {
     "name": "stdout",
     "output_type": "stream",
     "text": [
      "mu_hat = 172.57223124853678\n",
      "CI = (172.1928562485371, 172.92410624853648, 0.3656249999996817)\n",
      "GoF = 7.634889666986586\n"
     ]
    }
   ],
   "source": [
    "comb = GVMCombination('input_files/config_lhc.txt')\n",
    "print('mu_hat =', comb.fit_results['mu'])\n",
    "print('CI =', comb.confidence_interval())\n",
    "print('GoF =', comb.goodness_of_fit())\n"
   ]
  },
  {
   "cell_type": "code",
   "execution_count": 3,
   "id": "072d0a51",
   "metadata": {},
   "outputs": [
    {
     "data": {
      "text/plain": [
       "(1.4380166424135754, 14.398244163781655)"
      ]
     },
     "execution_count": 3,
     "metadata": {},
     "output_type": "execute_result"
    }
   ],
   "source": [
    "comb.bartlett_correction()"
   ]
  },
  {
   "cell_type": "code",
   "execution_count": 4,
   "id": "06ad6314",
   "metadata": {},
   "outputs": [
    {
     "data": {
      "text/plain": [
       "{'LHCJES1': array([0.54, 0.33, 0.38, 0.35, 0.28, 0.4 , 0.77, 0.24, 0.69, 0.31, 0.1 ,\n",
       "        0.16, 0.4 , 0.  , 0.11]),\n",
       " 'LHCJES2': array([0.3 , 0.3 , 0.2 , 0.41, 0.39, 0.42, 0.54, 0.02, 0.35, 0.17, 0.12,\n",
       "        0.19, 0.21, 0.  , 0.13]),\n",
       " 'LHCJES3': array([0.43, 0.07, 0.24, 0.08, 0.05, 0.12, 0.06, 0.01, 0.08, 0.03, 0.01,\n",
       "        0.02, 0.05, 0.  , 0.01]),\n",
       " 'LHCbJES': array([0.68, 0.06, 0.62, 0.3 , 0.03, 0.34, 0.7 , 0.61, 0.49, 0.37, 0.32,\n",
       "        0.29, 0.38, 0.  , 0.  ]),\n",
       " 'LHCgJES': array([0.03, 0.28, 0.1 , 0.02, 0.21, 0.05, 0.  , 0.  , 0.  , 0.07, 0.08,\n",
       "        0.02, 0.  , 0.  , 0.  ]),\n",
       " 'LHClJES': array([0.02, 0.24, 0.02, 0.01, 0.1 , 0.06, 0.  , 0.  , 0.  , 0.04, 0.06,\n",
       "        0.01, 0.07, 0.  , 0.  ]),\n",
       " 'CMSJES': array([0.  , 0.  , 0.  , 0.  , 0.  , 0.  , 0.58, 0.11, 0.58, 0.  , 0.  ,\n",
       "        0.  , 0.  , 0.  , 0.  ]),\n",
       " 'JER': array([0.19, 0.22, 0.01, 0.09, 0.2 , 0.1 , 0.14, 0.23, 0.15, 0.  , 0.03,\n",
       "        0.02, 0.05, 0.  , 0.05]),\n",
       " 'leptons': array([0.13, 0.04, 0.  , 0.14, 0.16, 0.01, 0.14, 0.02, 0.  , 0.25, 0.01,\n",
       "        0.  , 0.05, 0.1 , 0.24]),\n",
       " 'btag': array([0.07, 0.5 , 0.16, 0.04, 0.38, 0.1 , 0.09, 0.12, 0.06, 0.01, 0.06,\n",
       "        0.02, 0.1 , 0.  , 0.02]),\n",
       " 'ptmiss': array([0.04, 0.15, 0.02, 0.01, 0.05, 0.01, 0.12, 0.06, 0.  , 0.01, 0.04,\n",
       "        0.  , 0.15, 0.  , 0.  ]),\n",
       " 'pileup': array([0.01, 0.02, 0.02, 0.05, 0.15, 0.01, 0.11, 0.07, 0.06, 0.05, 0.06,\n",
       "        0.06, 0.14, 0.07, 0.05]),\n",
       " 'trigger': array([0.01, 0.  , 0.01, 0.  , 0.01, 0.08, 0.  , 0.  , 0.24, 0.  , 0.  ,\n",
       "        0.01, 0.  , 0.02, 0.  ]),\n",
       " 'ME': array([0.26, 0.22, 0.3 , 0.09, 0.16, 0.18, 0.04, 0.02, 0.19, 0.07, 0.12,\n",
       "        0.16, 0.  , 0.37, 0.42]),\n",
       " 'LHCrad': array([0.47, 0.32, 0.22, 0.23, 0.08, 0.1 , 0.58, 0.3 , 0.33, 0.24, 0.09,\n",
       "        0.18, 0.35, 0.74, 0.2 ]),\n",
       " 'LHChad': array([0.53, 0.18, 0.5 , 0.22, 0.15, 0.64, 0.  , 0.  , 0.  , 0.38, 0.01,\n",
       "        0.04, 0.  , 0.3 , 0.54]),\n",
       " 'CMSbHad': array([0.  , 0.  , 0.  , 0.  , 0.  , 0.  , 0.  , 0.  , 0.  , 0.12, 0.16,\n",
       "        0.13, 0.15, 0.  , 0.16]),\n",
       " 'CR': array([0.14, 0.11, 0.22, 0.03, 0.19, 0.12, 0.13, 0.54, 0.15, 0.13, 0.01,\n",
       "        0.16, 0.05, 0.12, 0.08]),\n",
       " 'UE': array([0.05, 0.15, 0.08, 0.1 , 0.08, 0.12, 0.05, 0.15, 0.2 , 0.11, 0.08,\n",
       "        0.14, 0.2 , 0.13, 0.  ]),\n",
       " 'PDF': array([0.1 , 0.25, 0.09, 0.05, 0.09, 0.09, 0.09, 0.07, 0.06, 0.17, 0.04,\n",
       "        0.03, 0.11, 0.11, 0.04]),\n",
       " 'topPT': array([0.  , 0.  , 0.  , 0.  , 0.  , 0.  , 0.  , 0.  , 0.  , 0.51, 0.02,\n",
       "        0.06, 0.  , 0.  , 0.  ]),\n",
       " 'bkgData': array([0.04, 0.11, 0.35, 0.07, 0.05, 0.17, 0.  , 0.  , 0.13, 0.  , 0.  ,\n",
       "        0.2 , 0.  , 0.  , 0.44]),\n",
       " 'bkgMC': array([0.01, 0.29, 0.  , 0.03, 0.13, 0.  , 0.05, 0.13, 0.  , 0.  , 0.03,\n",
       "        0.  , 0.17, 0.01, 0.  ]),\n",
       " 'method': array([0.09, 0.11, 0.42, 0.05, 0.13, 0.11, 0.4 , 0.06, 0.13, 0.  , 0.04,\n",
       "        0.06, 0.39, 0.22, 0.62]),\n",
       " 'other': array([0.07, 0.12, 0.24, 0.02, 0.1 , 0.03, 0.  , 0.  , 0.  , 0.03, 0.  ,\n",
       "        0.  , 0.25, 0.09, 0.09])}"
      ]
     },
     "execution_count": 4,
     "metadata": {},
     "output_type": "execute_result"
    }
   ],
   "source": [
    "comb.syst"
   ]
  },
  {
   "cell_type": "code",
   "execution_count": 5,
   "id": "eca91c1f",
   "metadata": {},
   "outputs": [],
   "source": [
    "info = comb.input_data()\n",
    "comb.update_data(info)\n"
   ]
  },
  {
   "cell_type": "code",
   "execution_count": 8,
   "id": "48fbf9cf",
   "metadata": {},
   "outputs": [
    {
     "data": {
      "text/plain": [
       "172.5722175688261"
      ]
     },
     "execution_count": 8,
     "metadata": {},
     "output_type": "execute_result"
    }
   ],
   "source": [
    "info['epsilon']['LHCbJES'] = 0.6\n",
    "comb.update_data(info)\n",
    "comb.fit_results['mu']"
   ]
  },
  {
   "cell_type": "code",
   "execution_count": 6,
   "id": "ff0f1d08",
   "metadata": {},
   "outputs": [
    {
     "data": {
      "text/plain": [
       "{'a': 0.54,\n",
       " 'b': 0.75,\n",
       " 'c': 1.35,\n",
       " 'd': 0.41,\n",
       " 'e': 0.39,\n",
       " 'f': 0.55,\n",
       " 'g': 0.43,\n",
       " 'h': 0.43,\n",
       " 'i': 0.69,\n",
       " 'j': 0.18,\n",
       " 'k': 0.16,\n",
       " 'l': 0.25,\n",
       " 'm': 0.77,\n",
       " 'n': 3.0,\n",
       " 'o': 0.2}"
      ]
     },
     "execution_count": 6,
     "metadata": {},
     "output_type": "execute_result"
    }
   ],
   "source": [
    "info['stat_error']"
   ]
  },
  {
   "cell_type": "code",
   "execution_count": 9,
   "id": "b89580dc",
   "metadata": {},
   "outputs": [],
   "source": [
    "info['stat_corr'][('a', 'b')] = 0.1\n"
   ]
  },
  {
   "cell_type": "code",
   "execution_count": null,
   "id": "f32a1154",
   "metadata": {},
   "outputs": [],
   "source": [
    "info['systematics']['JER']"
   ]
  },
  {
   "cell_type": "code",
   "execution_count": null,
   "id": "78e6cade",
   "metadata": {},
   "outputs": [],
   "source": [
    "info['systematics']['JER']['a']"
   ]
  },
  {
   "cell_type": "code",
   "execution_count": null,
   "id": "f0d570c8",
   "metadata": {},
   "outputs": [],
   "source": [
    "info['syst_corr']['JER'][('a', 'b')]"
   ]
  },
  {
   "cell_type": "code",
   "execution_count": 7,
   "id": "19833a76",
   "metadata": {},
   "outputs": [
    {
     "data": {
      "text/plain": [
       "{'LHCJES1': 0.0,\n",
       " 'LHCJES2': 0.0,\n",
       " 'LHCJES3': 0.0,\n",
       " 'LHCbJES': 0.6,\n",
       " 'LHCgJES': 0.0,\n",
       " 'LHClJES': 0.0,\n",
       " 'CMSJES': 0.0,\n",
       " 'JER': 0.0,\n",
       " 'leptons': 0.0,\n",
       " 'btag': 0.0,\n",
       " 'ptmiss': 0.0,\n",
       " 'pileup': 0.0,\n",
       " 'trigger': 0.0,\n",
       " 'ME': 0.0,\n",
       " 'LHCrad': 0.0,\n",
       " 'LHChad': 0.0,\n",
       " 'CMSbHad': 0.0,\n",
       " 'CR': 0.0,\n",
       " 'UE': 0.0,\n",
       " 'PDF': 0.0,\n",
       " 'topPT': 0.0,\n",
       " 'bkgData': 0.0,\n",
       " 'bkgMC': 0.0,\n",
       " 'method': 0.0,\n",
       " 'other': 0.0}"
      ]
     },
     "execution_count": 7,
     "metadata": {},
     "output_type": "execute_result"
    }
   ],
   "source": [
    "info['epsilon']"
   ]
  },
  {
   "cell_type": "code",
   "execution_count": null,
   "id": "f2e5a60b",
   "metadata": {},
   "outputs": [],
   "source": [
    "comb.corr['JER'][:2, :2]"
   ]
  },
  {
   "cell_type": "code",
   "execution_count": null,
   "id": "bd002432",
   "metadata": {},
   "outputs": [],
   "source": [
    "info['stat_error']['a'] += 0.1\n",
    "info['stat_corr'][('a','b')] = 0.1\n",
    "info['stat_corr'][('b','a')] = 0.1\n",
    "info['systematics']['JER']['a'] += 0.05\n",
    "info['syst_corr']['JER'][('a','b')] = 0.3\n",
    "info['syst_corr']['JER'][('b','a')] = 0.3\n",
    "info['epsilon']['JER'] = 0.1\n",
    "comb.update_inputs(info)\n",
    "comb.fit_results['mu']"
   ]
  },
  {
   "cell_type": "code",
   "execution_count": null,
   "metadata": {},
   "outputs": [],
   "source": [
    "import numpy as np\n",
    "import matplotlib.pyplot as plt\n",
    "from gvm_toolkit import GVMCombination\n",
    "\n",
    "comb = GVMCombination('input_files/config_lhc.txt')\n",
    "systematics = ['LHCbJES', 'btag', 'ME', 'LHCJES1', 'LHCJES2', 'method', 'CMSbHad', 'LHCrad']\n",
    "eps_grid = np.linspace(0., 0.6, 7)\n",
    "\n",
    "cv = {s: [] for s in systematics}\n",
    "ci = {s: [] for s in systematics}\n",
    "\n",
    "for syst in systematics:\n",
    "    info = comb.input_data()\n",
    "    for k in info['epsilon']:\n",
    "        info['epsilon'][k] = 0.0\n",
    "    for eps in eps_grid:\n",
    "        info['epsilon'][syst] = eps\n",
    "        comb.update_data(info)\n",
    "        cv[syst].append(comb.fit_results['mu'])\n",
    "        ci[syst].append(comb.confidence_interval())\n"
   ]
  },
  {
   "cell_type": "code",
   "execution_count": null,
   "metadata": {},
   "outputs": [],
   "source": [
    "plt.figure(figsize=(8,6))\n",
    "for s in systematics:\n",
    "    plt.plot(eps_grid, cv[s], '--o', label=s)\n",
    "plt.xlabel(r'$\\epsilon_s$')\n",
    "plt.ylabel('Central Value $m_t$ (GeV)')\n",
    "plt.legend()\n",
    "plt.grid(True)\n"
   ]
  },
  {
   "cell_type": "code",
   "execution_count": null,
   "metadata": {},
   "outputs": [],
   "source": [
    "plt.figure(figsize=(8,6))\n",
    "for s in systematics:\n",
    "    vals = np.array(cv[s])\n",
    "    rel = (vals - vals[0]) / vals[0] * 100\n",
    "    plt.plot(eps_grid, rel, '--o', label=s)\n",
    "plt.xlabel(r'$\\epsilon_s$')\n",
    "plt.ylabel('Central Value Variation (%)')\n",
    "plt.legend()\n",
    "plt.grid(True)\n"
   ]
  },
  {
   "cell_type": "code",
   "execution_count": null,
   "metadata": {},
   "outputs": [],
   "source": [
    "plt.figure(figsize=(8,6))\n",
    "for s in systematics:\n",
    "    half = [c[2] for c in ci[s]]\n",
    "    plt.plot(eps_grid, half, '--o', label=s)\n",
    "plt.xlabel(r'$\\epsilon_s$')\n",
    "plt.ylabel('68% CI Half Size (GeV)')\n",
    "plt.legend()\n",
    "plt.grid(True)\n"
   ]
  },
  {
   "cell_type": "code",
   "execution_count": null,
   "metadata": {},
   "outputs": [],
   "source": [
    "plt.figure(figsize=(8,6))\n",
    "for s in systematics:\n",
    "    half = np.array([c[2] for c in ci[s]])\n",
    "    rel = (half - half[0]) / half[0] * 100\n",
    "    plt.plot(eps_grid, rel, '--o', label=s)\n",
    "plt.xlabel(r'$\\epsilon_s$')\n",
    "plt.ylabel('CI Half Size Variation (%)')\n",
    "plt.legend()\n",
    "plt.grid(True)\n"
   ]
  }
 ],
 "metadata": {
  "kernelspec": {
   "display_name": "Python [conda env:errors-on-errors]",
   "language": "python",
   "name": "conda-env-errors-on-errors-py"
  },
  "language_info": {
   "codemirror_mode": {
    "name": "ipython",
    "version": 3
   },
   "file_extension": ".py",
   "mimetype": "text/x-python",
   "name": "python",
   "nbconvert_exporter": "python",
   "pygments_lexer": "ipython3",
   "version": "3.10.4"
  }
 },
 "nbformat": 4,
 "nbformat_minor": 5
}
