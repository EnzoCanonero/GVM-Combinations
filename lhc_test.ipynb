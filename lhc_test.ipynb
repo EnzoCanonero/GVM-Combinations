{
 "cells": [
  {
   "cell_type": "code",
   "metadata": {},
   "source": [
  "from gvm_toolkit import GVMCombination\n"
   ],
   "outputs": [],
   "execution_count": null
  },
  {
   "cell_type": "code",
   "metadata": {},
   "source": [
  "comb = GVMCombination('input_files/config_lhc.txt')\n",
  "print('mu_hat =', comb.fit_results['mu'])\n",
  "print('CI =', comb.confidence_interval())\n",
  "print('GoF =', comb.goodness_of_fit())\n"
   ],
   "outputs": [],
   "execution_count": null
  },
  {
   "cell_type": "code",
   "metadata": {},
   "source": [

   ],
   "outputs": [],
   "execution_count": null
  }
 ],
 "metadata": {
  "kernelspec": {
   "display_name": "Python 3",
   "language": "python",
   "name": "python3"
  },
  "language_info": {
   "name": "python",
   "pygments_lexer": "ipython3"
  }
 },
 "nbformat": 4,
 "nbformat_minor": 5
}