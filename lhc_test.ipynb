{
 "cells": [
  {
   "cell_type": "code",
   "metadata": {},
   "source": [
    "import numpy as np\n",
    "from gvm_toolkit import GVMCombination, load_data_file, load_correlation_matrix\n"
   ],
   "outputs": [],
   "execution_count": null
  },
  {
   "cell_type": "code",
   "metadata": {},
   "source": [
    "data, stat, syst = load_data_file('input_files/data_lhc.txt')\n",
    "correlations = {}\n",
    "for name in syst:\n",
    "    load_correlation_matrix(f'input_files/{name}.txt', name, correlations)\n"
   ],
   "outputs": [],
   "execution_count": null
  },
  {
   "cell_type": "code",
   "metadata": {},
   "source": [
    "uncertain = { 'JER': 0.3, 'btag': 0.2 }  # example values\n",
    "comb = GVMCombination(data, stat, syst, correlations, uncertain)\n",
    "print('mu_hat =', comb.fit_results['mu'])\n",
    "print('CI =', comb.confidence_interval())\n",
    "print('GoF =', comb.goodness_of_fit())\n"
   ],
   "outputs": [],
   "execution_count": null
  }
 ],
 "metadata": {
  "kernelspec": {
   "display_name": "Python 3",
   "language": "python",
   "name": "python3"
  },
  "language_info": {
   "name": "python",
   "pygments_lexer": "ipython3"
  }
 },
 "nbformat": 4,
 "nbformat_minor": 5
}