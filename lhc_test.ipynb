{
 "cells": [
  {
   "cell_type": "code",
   "execution_count": 1,
   "id": "057b2cfa",
   "metadata": {},
   "outputs": [],
   "source": [
    "from gvm_toolkit import GVMCombination\n"
   ]
  },
  {
   "cell_type": "code",
   "execution_count": 11,
   "id": "701cb532",
   "metadata": {},
   "outputs": [
    {
     "name": "stdout",
     "output_type": "stream",
     "text": [
      "mu_hat = 172.54717208898484\n",
      "CI = (172.18842208898516, 172.88842208898453, 0.3499999999996817)\n",
      "GoF = 7.608130089466451\n"
     ]
    }
   ],
   "source": [
    "comb = GVMCombination('input_files/config_lhc.txt')\n",
    "print('mu_hat =', comb.fit_results['mu'])\n",
    "print('CI =', comb.confidence_interval())\n",
    "print('GoF =', comb.goodness_of_fit())\n"
   ]
  },
  {
   "cell_type": "code",
   "execution_count": 12,
   "id": "072d0a51",
   "metadata": {},
   "outputs": [
    {
     "data": {
      "text/plain": [
       "(1.2168414643591758, 14.240723980806544)"
      ]
     },
     "execution_count": 12,
     "metadata": {},
     "output_type": "execute_result"
    }
   ],
   "source": [
    "comb.bartlett_correction()"
   ]
  },
  {
   "cell_type": "code",
   "execution_count": 8,
   "id": "06ad6314",
   "metadata": {},
   "outputs": [
    {
     "data": {
      "text/plain": [
       "{'LHCJES1': array([0.54, 0.33, 0.38, 0.35, 0.28, 0.4 , 0.77, 0.24, 0.69, 0.31, 0.1 ,\n",
       "        0.16, 0.4 , 0.  , 0.11]),\n",
       " 'LHCJES2': array([0.3 , 0.3 , 0.2 , 0.41, 0.39, 0.42, 0.54, 0.02, 0.35, 0.17, 0.12,\n",
       "        0.19, 0.21, 0.  , 0.13]),\n",
       " 'LHCJES3': array([0.43, 0.07, 0.24, 0.08, 0.05, 0.12, 0.06, 0.01, 0.08, 0.03, 0.01,\n",
       "        0.02, 0.05, 0.  , 0.01]),\n",
       " 'LHCbJES': array([0.68, 0.06, 0.62, 0.3 , 0.03, 0.34, 0.7 , 0.61, 0.49, 0.37, 0.32,\n",
       "        0.29, 0.38, 0.  , 0.  ]),\n",
       " 'LHCgJES': array([0.03, 0.28, 0.1 , 0.02, 0.21, 0.05, 0.  , 0.  , 0.  , 0.07, 0.08,\n",
       "        0.02, 0.  , 0.  , 0.  ]),\n",
       " 'LHClJES': array([0.02, 0.24, 0.02, 0.01, 0.1 , 0.06, 0.  , 0.  , 0.  , 0.04, 0.06,\n",
       "        0.01, 0.07, 0.  , 0.  ]),\n",
       " 'CMSJES': array([0.  , 0.  , 0.  , 0.  , 0.  , 0.  , 0.58, 0.11, 0.58, 0.  , 0.  ,\n",
       "        0.  , 0.  , 0.  , 0.  ]),\n",
       " 'JER': array([0.19, 0.22, 0.01, 0.09, 0.2 , 0.1 , 0.14, 0.23, 0.15, 0.  , 0.03,\n",
       "        0.02, 0.05, 0.  , 0.05]),\n",
       " 'leptons': array([0.13, 0.04, 0.  , 0.14, 0.16, 0.01, 0.14, 0.02, 0.  , 0.25, 0.01,\n",
       "        0.  , 0.05, 0.1 , 0.24]),\n",
       " 'btag': array([0.07, 0.5 , 0.16, 0.04, 0.38, 0.1 , 0.09, 0.12, 0.06, 0.01, 0.06,\n",
       "        0.02, 0.1 , 0.  , 0.02]),\n",
       " 'ptmiss': array([0.04, 0.15, 0.02, 0.01, 0.05, 0.01, 0.12, 0.06, 0.  , 0.01, 0.04,\n",
       "        0.  , 0.15, 0.  , 0.  ]),\n",
       " 'pileup': array([0.01, 0.02, 0.02, 0.05, 0.15, 0.01, 0.11, 0.07, 0.06, 0.05, 0.06,\n",
       "        0.06, 0.14, 0.07, 0.05]),\n",
       " 'trigger': array([0.01, 0.  , 0.01, 0.  , 0.01, 0.08, 0.  , 0.  , 0.24, 0.  , 0.  ,\n",
       "        0.01, 0.  , 0.02, 0.  ]),\n",
       " 'ME': array([0.26, 0.22, 0.3 , 0.09, 0.16, 0.18, 0.04, 0.02, 0.19, 0.07, 0.12,\n",
       "        0.16, 0.  , 0.37, 0.42]),\n",
       " 'LHCrad': array([0.47, 0.32, 0.22, 0.23, 0.08, 0.1 , 0.58, 0.3 , 0.33, 0.24, 0.09,\n",
       "        0.18, 0.35, 0.74, 0.2 ]),\n",
       " 'LHChad': array([0.53, 0.18, 0.5 , 0.22, 0.15, 0.64, 0.  , 0.  , 0.  , 0.38, 0.01,\n",
       "        0.04, 0.  , 0.3 , 0.54]),\n",
       " 'CMSbHad': array([0.  , 0.  , 0.  , 0.  , 0.  , 0.  , 0.  , 0.  , 0.  , 0.12, 0.16,\n",
       "        0.13, 0.15, 0.  , 0.16]),\n",
       " 'CR': array([0.14, 0.11, 0.22, 0.03, 0.19, 0.12, 0.13, 0.54, 0.15, 0.13, 0.01,\n",
       "        0.16, 0.05, 0.12, 0.08]),\n",
       " 'UE': array([0.05, 0.15, 0.08, 0.1 , 0.08, 0.12, 0.05, 0.15, 0.2 , 0.11, 0.08,\n",
       "        0.14, 0.2 , 0.13, 0.  ]),\n",
       " 'PDF': array([0.1 , 0.25, 0.09, 0.05, 0.09, 0.09, 0.09, 0.07, 0.06, 0.17, 0.04,\n",
       "        0.03, 0.11, 0.11, 0.04]),\n",
       " 'topPT': array([0.  , 0.  , 0.  , 0.  , 0.  , 0.  , 0.  , 0.  , 0.  , 0.51, 0.02,\n",
       "        0.06, 0.  , 0.  , 0.  ]),\n",
       " 'bkgData': array([0.04, 0.11, 0.35, 0.07, 0.05, 0.17, 0.  , 0.  , 0.13, 0.  , 0.  ,\n",
       "        0.2 , 0.  , 0.  , 0.44]),\n",
       " 'bkgMC': array([0.01, 0.29, 0.  , 0.03, 0.13, 0.  , 0.05, 0.13, 0.  , 0.  , 0.03,\n",
       "        0.  , 0.17, 0.01, 0.  ]),\n",
       " 'method': array([0.09, 0.11, 0.42, 0.05, 0.13, 0.11, 0.4 , 0.06, 0.13, 0.  , 0.04,\n",
       "        0.06, 0.39, 0.22, 0.62]),\n",
       " 'other': array([0.07, 0.12, 0.24, 0.02, 0.1 , 0.03, 0.  , 0.  , 0.  , 0.03, 0.  ,\n",
       "        0.  , 0.25, 0.09, 0.09])}"
      ]
     },
     "execution_count": 8,
     "metadata": {},
     "output_type": "execute_result"
    }
   ],
   "source": [
    "comb.syst"
   ]
  },
  {
   "cell_type": "code",
   "execution_count": null,
   "id": "eca91c1f",
   "metadata": {},
   "outputs": [],
   "source": [
    "info = comb.input_summary()\n",
    "info['central']"
   ]
  },
  {
   "cell_type": "code",
   "execution_count": null,
   "id": "48fbf9cf",
   "metadata": {},
   "outputs": [],
   "source": [
    "info['central']['a'] += 0.5\n",
    "comb.update_inputs(info)\n",
    "comb.fit_results['mu']"
   ]
  }
 ],
 "metadata": {
  "kernelspec": {
   "display_name": "Python [conda env:errors-on-errors]",
   "language": "python",
   "name": "conda-env-errors-on-errors-py"
  },
  "language_info": {
   "codemirror_mode": {
    "name": "ipython",
    "version": 3
   },
   "file_extension": ".py",
   "mimetype": "text/x-python",
   "name": "python",
   "nbconvert_exporter": "python",
   "pygments_lexer": "ipython3",
   "version": "3.10.4"
  }
 },
 "nbformat": 4,
 "nbformat_minor": 5
}
