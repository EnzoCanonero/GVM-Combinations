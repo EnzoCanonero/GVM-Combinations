{
 "cells": [
  {
   "cell_type": "code",
   "execution_count": 1,
   "id": "b9500743",
   "metadata": {},
   "outputs": [],
   "source": [
    "from gvm_toolkit import GVMCombination\n"
   ]
  },
  {
   "cell_type": "code",
   "execution_count": 3,
   "id": "29b635cb",
   "metadata": {},
   "outputs": [
    {
     "name": "stdout",
     "output_type": "stream",
     "text": [
      "mu_hat = 172.57223124853678\n",
      "CI = (172.1928562485371, 172.92410624853648, 0.3656249999996817)\n"
     ]
    }
   ],
   "source": [
    "comb = GVMCombination('input_files/config_lhc.txt')\n",
    "print('mu_hat =', comb.fit_results['mu'])\n",
    "print('CI =', comb.confidence_interval())"
   ]
  },
  {
   "cell_type": "code",
   "execution_count": null,
   "id": "77d59083",
   "metadata": {},
   "outputs": [],
   "source": []
  }
 ],
 "metadata": {
  "kernelspec": {
   "display_name": "Python [conda env:errors-on-errors]",
   "language": "python",
   "name": "conda-env-errors-on-errors-py"
  },
  "language_info": {
   "codemirror_mode": {
    "name": "ipython",
    "version": 3
   },
   "file_extension": ".py",
   "mimetype": "text/x-python",
   "name": "python",
   "nbconvert_exporter": "python",
   "pygments_lexer": "ipython3",
   "version": "3.10.4"
  }
 },
 "nbformat": 4,
 "nbformat_minor": 5
}
