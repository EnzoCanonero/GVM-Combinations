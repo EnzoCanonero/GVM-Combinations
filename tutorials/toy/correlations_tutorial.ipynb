{
 "cells": [
  {
   "cell_type": "markdown",
   "id": "979e513d",
   "metadata": {},
   "source": [
    "# Toy Correlation Tutorial\n",
    "\n",
    "This tutorial demonstrates how to set up statistical and systematic correlations using the `GVMCombination` toolkit. We fix all error-on-error terms (`epsilon`) to zero and explore a simple example with two measurements at $+1$ and $-1$. Each measurement has a statistical uncertainty of $\\sqrt{2}$ and there is a single systematic uncertainty with the same magnitude."
   ]
  },
  {
   "cell_type": "code",
   "execution_count": null,
   "id": "151b1b6b",
   "metadata": {},
   "outputs": [],
   "source": [
    "import os, sys\n",
    "\n",
    "script_dir = os.getcwd()\n",
    "gvm_root = os.path.abspath(os.path.join(script_dir, \"../../\"))\n",
    "if gvm_root not in sys.path:\n",
    "    sys.path.insert(0, gvm_root)\n",
    "\n",
    "from gvm_toolkit import GVMCombination"
   ]
  },
  {
   "cell_type": "markdown",
   "id": "3a594063",
   "metadata": {},
   "source": [
    "The following helper function loads a configuration file and prints the combination result (central value, $68\\%$ confidence interval and goodness of fit)."
   ]
  },
  {
   "cell_type": "code",
   "execution_count": null,
   "id": "28f385bd",
   "metadata": {},
   "outputs": [],
   "source": [
    "def run_combination(config):\n",
    "    comb = GVMCombination(config)\n",
    "    mu_hat = comb.fit_results[\"mu\"]\n",
    "    ci_low, ci_high, _ = comb.confidence_interval()\n",
    "    chi2 = comb.goodness_of_fit()\n",
    "    print(f\"mu_hat={mu_hat:.4f}, CI=({ci_low:.4f}, {ci_high:.4f}), chi2={chi2:.3f}\")\n",
    "    return mu_hat, ci_low, ci_high, chi2"
   ]
  },
  {
   "cell_type": "markdown",
   "id": "de975f36",
   "metadata": {},
   "source": [
    "## 1. Decorrelated case\n",
    "Here the systematic uncertainty is defined as independent for each measurement (no correlation matrix)."
   ]
  },
  {
   "cell_type": "code",
   "execution_count": null,
   "id": "463e328f",
   "metadata": {},
   "outputs": [],
   "source": [
    "run_combination('correlations/decorrelated.yaml')"
   ]
  },
  {
   "cell_type": "markdown",
   "id": "3d3502f1",
   "metadata": {},
   "source": [
    "## 2. Diagonal correlation matrix\n",
    "A diagonal correlation matrix gives the same result as the decorrelated case because the off-diagonal elements are zero."
   ]
  },
  {
   "cell_type": "code",
   "execution_count": null,
   "id": "c18c339a",
   "metadata": {},
   "outputs": [],
   "source": [
    "run_combination('correlations/diag_corr.yaml')"
   ]
  },
  {
   "cell_type": "markdown",
   "id": "bac5e1df",
   "metadata": {},
   "source": [
    "## 3. Fully correlated\n",
    "All correlation coefficients are set to one so the systematic behaves like a single nuisance parameter shared between measurements."
   ]
  },
  {
   "cell_type": "code",
   "execution_count": null,
   "id": "d8803d29",
   "metadata": {},
   "outputs": [],
   "source": [
    "run_combination('correlations/full_corr.yaml')"
   ]
  },
  {
   "cell_type": "markdown",
   "id": "73c54df2",
   "metadata": {},
   "source": [
    "## 4. Hybrid correlation\n",
    "This example uses a non-trivial correlation matrix with an off-diagonal value of 0.5."
   ]
  },
  {
   "cell_type": "code",
   "execution_count": null,
   "id": "aed2bd39",
   "metadata": {},
   "outputs": [],
   "source": [
    "run_combination('correlations/hybrid_corr.yaml')"
   ]
  },
  {
   "cell_type": "markdown",
   "id": "e213bdf5",
   "metadata": {},
   "source": [
    "## 5. Non-diagonal statistical covariance\n",
    "The same systematic is fully correlated as above, but the statistical uncertainties are supplied via a covariance matrix with non-zero off-diagonal terms."
   ]
  },
  {
   "cell_type": "code",
   "execution_count": null,
   "id": "aebc5e9e",
   "metadata": {},
   "outputs": [],
   "source": [
    "run_combination('correlations/stat_cov.yaml')"
   ]
  },
  {
   "cell_type": "markdown",
   "id": "9e009afb",
   "metadata": {},
   "source": [
    "> **Tip**\n",
    "> You can modify the combination without creating a new configuration file by retrieving the current input with `comb.input_data()`, editing the returned dictionary and then calling `comb.update_data()`."
   ]
  }
 ],
 "metadata": {
  "kernelspec": {
   "display_name": "Python 3",
   "language": "python",
   "name": "python3"
  },
  "language_info": {
   "name": "python",
   "pygments_lexer": "python3"
  }
 },
 "nbformat": 4,
 "nbformat_minor": 5
}
