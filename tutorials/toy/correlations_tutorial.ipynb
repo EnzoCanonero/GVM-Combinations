{
 "cells": [
  {
   "cell_type": "markdown",
   "id": "979e513d",
   "metadata": {},
   "source": [
    "# Toy Correlation Tutorial\n",
    "\n",
    "In this notebook we explore how different correlation assumptions impact a simple two-measurement combination. ",
    "Both measurements provide an estimate of the same quantity with central values +1 and -1. ",
    "Their statistical uncertainties are $\\sqrt{2}$ and we introduce a single systematic source also of magnitude $\\sqrt{2}$. ",
    "All error-on-error terms ($\\epsilon$) are set to zero so only the correlations influence the result.\n"
   ]
  },
  {
   "cell_type": "code",
   "execution_count": null,
   "id": "151b1b6b",
   "metadata": {},
   "outputs": [],
   "source": [
    "import os, sys\n",
    "\n",
    "script_dir = os.getcwd()\n",
    "gvm_root = os.path.abspath(os.path.join(script_dir, \"../../\"))\n",
    "if gvm_root not in sys.path:\n",
    "    sys.path.insert(0, gvm_root)\n",
    "\n",
    "from gvm_toolkit import GVMCombination"
   ]
  },
  {
   "cell_type": "markdown",
   "metadata": {},
   "source": [
    "The following cells build a `GVMCombination` for each correlation scenario. After running the fit we print the estimated mean (`mu_hat`), the 68% confidence interval and the goodness-of-fit (chi-square) value.\n"
   ]
  },
  {
   "cell_type": "markdown",
   "id": "de975f36",
   "metadata": {},
   "source": [
    "## 1. Decorrelated case\n",
    "Here the systematic uncertainty is defined as independent for each measurement (no correlation matrix)."
   ]
  },
  {
   "cell_type": "code",
   "execution_count": null,
   "id": "463e328f",
   "metadata": {},
   "outputs": [],
   "source": [
    "comb = GVMCombination('correlations/decorrelated.yaml')\n",
    "mu_hat = comb.fit_results['mu']\n",
    "ci_low, ci_high, _ = comb.confidence_interval()\n",
    "chi2 = comb.goodness_of_fit()\n",
    "print(f'decorrelated: mu_hat={mu_hat:.4f}, CI=({ci_low:.4f}, {ci_high:.4f}), chi2={chi2:.3f}')\n"
   ]
  },
  {
   "cell_type": "markdown",
   "metadata": {},
   "source": [
    "## 2. Correlation examples\n",
    "We now compare three different correlation matrices for the systematic uncertainty:\n",
    "1. **Diagonal**: off-diagonal terms are zero so the systematic acts independently.\n",
    "2. **Fully correlated**: all coefficients are one so the systematic behaves as one shared nuisance parameter.\n",
    "3. **Hybrid**: the off-diagonal coefficient is 0.5 representing a partial correlation.\n"
   ]
  },
  {
   "cell_type": "code",
   "execution_count": null,
   "metadata": {},
   "outputs": [],
   "source": [
    "comb = GVMCombination('correlations/diag_corr.yaml')\n",
    "mu_hat = comb.fit_results['mu']\n",
    "ci_low, ci_high, _ = comb.confidence_interval()\n",
    "chi2 = comb.goodness_of_fit()\n",
    "print(f'diag_corr: mu_hat={mu_hat:.4f}, CI=({ci_low:.4f}, {ci_high:.4f}), chi2={chi2:.3f}')\n",
    "\n",
    "comb = GVMCombination('correlations/full_corr.yaml')\n",
    "mu_hat = comb.fit_results['mu']\n",
    "ci_low, ci_high, _ = comb.confidence_interval()\n",
    "chi2 = comb.goodness_of_fit()\n",
    "print(f'full_corr: mu_hat={mu_hat:.4f}, CI=({ci_low:.4f}, {ci_high:.4f}), chi2={chi2:.3f}')\n",
    "\n",
    "comb = GVMCombination('correlations/hybrid_corr.yaml')\n",
    "mu_hat = comb.fit_results['mu']\n",
    "ci_low, ci_high, _ = comb.confidence_interval()\n",
    "chi2 = comb.goodness_of_fit()\n",
    "print(f'hybrid_corr: mu_hat={mu_hat:.4f}, CI=({ci_low:.4f}, {ci_high:.4f}), chi2={chi2:.3f}')\n"
   ]
  },
  {
   "cell_type": "markdown",
   "id": "e213bdf5",
   "metadata": {},
   "source": [
    "## 3. Non-diagonal statistical covariance\n",
    "The same systematic is fully correlated as above, but the statistical uncertainties are supplied via a covariance matrix with non-zero off-diagonal terms."
   ]
  },
  {
   "cell_type": "code",
   "execution_count": null,
   "id": "aebc5e9e",
   "metadata": {},
   "outputs": [],
   "source": [
    "comb = GVMCombination('correlations/stat_cov.yaml')\n",
    "mu_hat = comb.fit_results['mu']\n",
    "ci_low, ci_high, _ = comb.confidence_interval()\n",
    "chi2 = comb.goodness_of_fit()\n",
    "print(f'stat_cov: mu_hat={mu_hat:.4f}, CI=({ci_low:.4f}, {ci_high:.4f}), chi2={chi2:.3f}')\n"
   ]
  },
  {
   "cell_type": "markdown",
   "id": "9e009afb",
   "metadata": {},
   "source": [
  "## Tip: modifying the combination\n",
  "You can obtain the current input with `input_data()` and modify the returned dictionary. \n",
  "After editing, pass it to `update_data()` to apply the changes before refitting.\n"
   ]
  },
  {
   "cell_type": "code",
   "metadata": {},
   "source": [
  "comb = GVMCombination('correlations/decorrelated.yaml')\n",
  "\n",
  "# extract current configuration\n",
  "info = comb.input_data()\n",
  "\n",
  "# change measurement and systematic values\n",
  "info['data']['measurements']['m1']['central'] = 2.0\n",
  "info['syst']['sys1']['values']['m1'] = 0.5\n",
  "\n",
  "# update the systematic to be dependent with a new correlation matrix\n",
  "info['syst']['sys1']['type'] = 'dependent'\n",
  "info['syst']['sys1']['corr'] = np.array([[1.0, 0.3], [0.3, 1.0]])\n",
  "\n",
  "# apply modifications and refit\n",
  "comb.update_data(info)\n",
  "comb.fit_results = comb.minimize()\n",
  "print(f\"updated mu_hat={comb.fit_results['mu']:.4f}\")\n"
   ],
   "execution_count": null,
   "outputs": []
  }
 ],
 "metadata": {
  "kernelspec": {
   "display_name": "Python 3",
   "language": "python",
   "name": "python3"
  },
  "language_info": {
   "name": "python",
   "pygments_lexer": "python3"
  }
 },
 "nbformat": 4,
 "nbformat_minor": 5
}