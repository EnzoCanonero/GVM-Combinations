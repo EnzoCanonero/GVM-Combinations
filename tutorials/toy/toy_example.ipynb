{
 "cells": [
  {
   "cell_type": "code",
   "metadata": {},
   "execution_count": null,
   "outputs": [],
   "source": [
    "import os, sys\n",
    "\n",
    "script_dir = os.getcwd()\n",
    "gvm_root = os.path.abspath(os.path.join(script_dir, '../../'))\n",
    "sys.path.insert(0, gvm_root)\n",
    "\n",
    "from gvm_toolkit import GVMCombination"
   ]
  },
  {
   "cell_type": "code",
   "metadata": {},
   "execution_count": null,
   "outputs": [],
   "source": [
    "comb = GVMCombination('input file/toy_config.yaml')\n",
    "print('mu_hat', comb.fit_results['mu'])\n",
    "print('GoF', comb.goodness_of_fit())"
   ]
  }
 ],
 "metadata": {},
 "nbformat": 4,
 "nbformat_minor": 5
}